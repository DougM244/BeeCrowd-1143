{
  "nbformat": 4,
  "nbformat_minor": 0,
  "metadata": {
    "colab": {
      "provenance": [],
      "authorship_tag": "ABX9TyPpeMN8fOe2jA3BaiQimyjr",
      "include_colab_link": true
    },
    "kernelspec": {
      "name": "python3",
      "display_name": "Python 3"
    },
    "language_info": {
      "name": "python"
    }
  },
  "cells": [
    {
      "cell_type": "markdown",
      "metadata": {
        "id": "view-in-github",
        "colab_type": "text"
      },
      "source": [
        "<a href=\"https://colab.research.google.com/github/GhostM244/BeeCrowd-1143/blob/main/BeeCrowd1143%20RefatoradoTDD.ipynb\" target=\"_parent\"><img src=\"https://colab.research.google.com/assets/colab-badge.svg\" alt=\"Open In Colab\"/></a>"
      ]
    },
    {
      "cell_type": "code",
      "execution_count": null,
      "metadata": {
        "id": "ceXpy7FPkOF3"
      },
      "outputs": [],
      "source": [
        "def beecrowd_1143(n):\n",
        "\n",
        "    result = ''\n",
        "    for i in range(n):\n",
        "        result += (\"{} {} {}\\n\".format(i+1,pow(i+1,2),pow(i+1,3)))\n",
        "    \n",
        "    return result\n",
        "\n",
        "import unittest\n",
        "\n",
        "class QuadradoeaoCubo(unittest.TestCase):\n",
        "  def test_quadradoeaocubo_5(self):\n",
        "    self.assertEqual(beecrowd_1143(5), '1 1 1\\n2 4 8\\n3 9 27\\n4 16 64\\n5 25 125\\n')\n",
        "      \n",
        "  def test_quadradoeaocubo_8(self):\n",
        "    self.assertEqual(beecrowd_1143(8), ' 1 1 1\\n2 4 8\\n3 9 27\\n4 16 64\\n5 25 125\\n6 36 216\\n7 49 343\\n8 64 512\\n')\n",
        "\n",
        "  def test_quadradoeaocubo_3(self):\n",
        "    self.assertEqual(beecrowd_1143(3), ' 1 1 1\\n2 4 8\\n3 9 27\\n')\n",
        "\n",
        "  def test_quadradoeaocubo_10(self):\n",
        "    self.assertEqual(beecrowd_1143(10), '1 1 1\\n2 4 8\\n3 9 27\\n4 16 64\\n5 25 125\\n6 36 216\\n7 49 343\\n8 64 512\\n9 81 729\\n10 100 1000\\n')\n",
        "\n",
        "  def test_quadradoeaocubo_2(self):\n",
        "    self.assertEqual(beecrowd_1143(2), '1 1 1\\n2 4 8\\n')\n",
        "\n",
        "if __name__ == '__main__':\n",
        "    unittest.main()"
      ]
    }
  ]
}